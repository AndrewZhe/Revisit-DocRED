{
 "cells": [
  {
   "cell_type": "code",
   "execution_count": 38,
   "metadata": {},
   "outputs": [],
   "source": [
    "import ujson as json\n",
    "from collections import defaultdict\n",
    "import copy\n",
    "import pandas as pd\n",
    "import math\n",
    "import numpy as np\n",
    "import matplotlib.pyplot as plt\n",
    "import matplotlib.ticker as ticker\n",
    "import seaborn as sns"
   ]
  },
  {
   "cell_type": "code",
   "execution_count": 39,
   "metadata": {},
   "outputs": [],
   "source": [
    "file_list = [249, 866, 434, 672, 184, 938, 212, 140, 546, 347, 633, 556, 205, 340, 533, 513, 130, 5, 777, 650, 20, 414, 543, 419, 813, 561, 52, 310, 698, 314, 61, 961, 198, 714, 974, 746, 753, 881, 377, 564, 270, 835, 371, 471, 692, 560, 905, 411, 38, 721, 297, 559, 803, 649, 955, 409, 380, 976, 815, 500, 480, 660, 438, 454, 718, 306, 996, 154, 620, 772, 498, 155, 787, 332, 770, 767, 196, 981, 115, 722, 609, 289, 231, 959, 124, 17, 222, 653, 214, 181, 940, 426, 685, 244, 807, 496]"
   ]
  },
  {
   "cell_type": "code",
   "execution_count": 40,
   "metadata": {},
   "outputs": [],
   "source": [
    "with open('./data/docred/rel2id.json', 'r') as fh:\n",
    "    rel2id = json.load(fh)\n",
    "\n",
    "id2rel = {}\n",
    "for rel, idx in rel2id.items():\n",
    "    id2rel[idx] = rel\n",
    "\n",
    "with open('./data/docred/valid_scratch.json', 'r') as fh:\n",
    "    scratch_dataset = json.load(fh)\n"
   ]
  },
  {
   "cell_type": "code",
   "execution_count": 41,
   "metadata": {},
   "outputs": [],
   "source": [
    "with open('./data/model_results/96_dev_bilstm_all_results.json', 'r') as fh:\n",
    "    bilstm_results = json.load(fh)\n",
    "\n",
    "\n",
    "with open('./data/model_results/96_dev_gain_bert_base_all_results.json', 'r') as fh:\n",
    "    gain_bert_base_results = json.load(fh)\n",
    "\n",
    "with open('./data/model_results/96_dev_ssan_roberta_all_results.json', 'r') as fh:\n",
    "    ssan_results = json.load(fh)"
   ]
  },
  {
   "cell_type": "code",
   "execution_count": 42,
   "metadata": {},
   "outputs": [],
   "source": [
    "ssan_results = [{'h_idx': res[-3], 't_idx': res[-2], 'r_idx': rel2id[res[-1]], 'title': res[2], 'score': res[1]} for res in ssan_results]"
   ]
  },
  {
   "cell_type": "code",
   "execution_count": 43,
   "metadata": {},
   "outputs": [],
   "source": [
    "with open('./data/model_results/dev_atlop_roberta_result.json', 'r') as fh:\n",
    "    altop_roberta_results = json.load(fh)\n",
    "\n",
    "altop_roberta_results = [res for res in altop_roberta_results if res['title'] in doc_titles]\n",
    "\n",
    "with open('./data/model_results/dev_docunet_result.json', 'r') as fh:\n",
    "    docunet_results = json.load(fh)\n",
    "\n",
    "all_htrs = [(res['h_idx'], res['t_idx'], res['r_idx'], res['title']) for res in gain_bert_base_results]\n",
    "\n",
    "atlop_roberta_htrs = set([(res['h_idx'], res['t_idx'], rel2id[res['r']], res['title']) for res in altop_roberta_results])\n",
    "altop_roberta_results = [{'h_idx': res[0], 't_idx': res[1], 'r_idx': res[2], 'title': res[3], 'score': 1} if res in atlop_roberta_htrs else {'h_idx': res[0], 't_idx': res[1], 'r_idx': res[2], 'title': res[3], 'score': 0} for res in all_htrs]\n",
    "\n",
    "docunet_htrs = set([(res['h_idx'], res['t_idx'], rel2id[res['r']], res['title']) for res in docunet_results])\n",
    "docunet_results = [{'h_idx': res[0], 't_idx': res[1], 'r_idx': res[2], 'title': res[3], 'score': 1} if res in docunet_htrs else {'h_idx': res[0], 't_idx': res[1], 'r_idx': res[2], 'title': res[3], 'score': 0} for res in all_htrs]\n"
   ]
  },
  {
   "cell_type": "code",
   "execution_count": 44,
   "metadata": {},
   "outputs": [],
   "source": [
    "dataset = {'bilstm': bilstm_results,\n",
    "            'gain_bert_base': gain_bert_base_results,\n",
    "            'atlop_roberta': altop_roberta_results,\n",
    "            'ssan': ssan_results,\n",
    "            'docunet': docunet_results\n",
    "}"
   ]
  },
  {
   "cell_type": "code",
   "execution_count": 45,
   "metadata": {},
   "outputs": [],
   "source": [
    "threshold = {\n",
    "    'gain_bert_base': 0.4427,\n",
    "    'bilstm': 0.8857,\n",
    "    'ssan': 0.18446,\n",
    "}"
   ]
  },
  {
   "cell_type": "code",
   "execution_count": 46,
   "metadata": {},
   "outputs": [],
   "source": [
    "ori_htrs = set([(data['title'], label['h'], label['t'], rel2id[label['r']])  for data in scratch_dataset for label in data['labels']])"
   ]
  },
  {
   "cell_type": "code",
   "execution_count": 47,
   "metadata": {},
   "outputs": [],
   "source": [
    "positive_dataset = {}\n",
    "for dataset_name, single_dataset in dataset.items():\n",
    "    positive_dataset[dataset_name] = [res for res in single_dataset if (res['title'], res['h_idx'], res['t_idx'], res['r_idx']) in ori_htrs]"
   ]
  },
  {
   "cell_type": "markdown",
   "metadata": {},
   "source": [
    "大于threshold记1，其余记0"
   ]
  },
  {
   "cell_type": "code",
   "execution_count": 48,
   "metadata": {},
   "outputs": [],
   "source": [
    "binary_dataset = {}\n",
    "for dataset_name in ['atlop_roberta', 'docunet']:\n",
    "    binary_dataset[dataset_name] = positive_dataset[dataset_name]\n",
    "for dataset_name, single_dataset in positive_dataset.items():\n",
    "    if dataset_name in threshold:\n",
    "        binary_dataset[dataset_name] = [{'title': res['title'], 'h_idx': res['h_idx'], 't_idx': res['t_idx'], 'r_idx': res['r_idx'], 'score': int(res['score'] > threshold[dataset_name])} for res in single_dataset]"
   ]
  },
  {
   "cell_type": "markdown",
   "metadata": {},
   "source": [
    "只保留预测出来的triple"
   ]
  },
  {
   "cell_type": "code",
   "execution_count": 49,
   "metadata": {},
   "outputs": [],
   "source": [
    "predict_dataset = {}\n",
    "for dataset_name, single_dataset in dataset.items():\n",
    "    if dataset_name in threshold:\n",
    "        predict_dataset[dataset_name] = [res for res in single_dataset if res['score'] > threshold[dataset_name] ]\n",
    "for dataset_name in ['atlop_roberta', 'docunet']: \n",
    "    single_dataset = dataset[dataset_name]\n",
    "    predict_dataset[dataset_name] = [res for res in single_dataset if res['score'] == 1]"
   ]
  },
  {
   "cell_type": "markdown",
   "metadata": {},
   "source": [
    "计算模型在Revise 和在Scratch 上的表现"
   ]
  },
  {
   "cell_type": "code",
   "execution_count": null,
   "metadata": {},
   "outputs": [],
   "source": [
    "with open('./data/docred/valid_revise.json', 'r') as fh:\n",
    "    revise_dataset = json.load(fh)\n",
    "revise_htrs = set([(data['title'], label['h'], label['t'], rel2id[label['r']])  for data in revise_dataset for label in data['labels']])"
   ]
  },
  {
   "cell_type": "code",
   "execution_count": 83,
   "metadata": {},
   "outputs": [],
   "source": [
    "dt = {\n",
    "    \"R-P\": [],\n",
    "    \"R-R\": [],\n",
    "    \"R-F1\": [],\n",
    "    \"S-P\": [],\n",
    "    \"S-R\": [],\n",
    "    \"S-F1\": []\n",
    "}"
   ]
  },
  {
   "cell_type": "code",
   "execution_count": 84,
   "metadata": {},
   "outputs": [],
   "source": [
    "for dataset_name in ['bilstm', 'gain_bert_base', 'atlop_roberta', 'ssan', 'docunet']:\n",
    "    single_dataset = predict_dataset[dataset_name]\n",
    "    pred = set([(res['title'], res['h_idx'], res['t_idx'], res['r_idx']) for res in single_dataset])\n",
    "    hit_num = len(ori_htrs & pred)\n",
    "    pred_num = len(pred)\n",
    "    gold_num = len(ori_htrs)\n",
    "    p = hit_num / pred_num\n",
    "    r = hit_num / gold_num\n",
    "    f1 = 2 * p * r / (p + r)\n",
    "    dt['S-P'].append(p)\n",
    "    dt['S-R'].append(r)\n",
    "    dt['S-F1'].append(f1)\n",
    "\n",
    "    pred = set([(res['title'], res['h_idx'], res['t_idx'], res['r_idx']) for res in single_dataset])\n",
    "    hit_num = len(revise_htrs & pred)\n",
    "    pred_num = len(pred)\n",
    "    gold_num = len(revise_htrs)\n",
    "    p = hit_num / pred_num\n",
    "    r = hit_num / gold_num\n",
    "    f1 = 2 * p * r / (p + r)\n",
    "\n",
    "    dt['R-P'].append(p)\n",
    "    dt['R-R'].append(r)\n",
    "    dt['R-F1'].append(f1)"
   ]
  },
  {
   "cell_type": "code",
   "execution_count": 85,
   "metadata": {},
   "outputs": [],
   "source": [
    "df = pd.DataFrame(dt)\n",
    "df.index = ['BiLSTM', 'GAIN', 'ATLOP', 'SSAN', 'DocuNet']\n",
    "df = df*100"
   ]
  },
  {
   "cell_type": "code",
   "execution_count": 86,
   "metadata": {},
   "outputs": [
    {
     "name": "stdout",
     "output_type": "stream",
     "text": [
      "\\begin{tabular}{lrrrrrr}\n",
      "\\toprule\n",
      "{} &   R-P &   R-R &  R-F1 &   S-P &   S-R &  S-F1 \\\\\n",
      "\\midrule\n",
      "BiLSTM  &  50.2 &  46.7 &  48.4 &  66.6 &  22.8 &  33.9 \\\\\n",
      "GAIN    &  60.0 &  56.8 &  58.3 &  81.1 &  28.1 &  41.8 \\\\\n",
      "ATLOP   &  66.3 &  59.1 &  62.5 &  90.3 &  29.5 &  44.5 \\\\\n",
      "SSAN    &  63.1 &  61.3 &  62.2 &  84.5 &  30.1 &  44.4 \\\\\n",
      "DocuNet &  66.9 &  59.9 &  63.2 &  89.1 &  29.3 &  44.1 \\\\\n",
      "\\bottomrule\n",
      "\\end{tabular}\n",
      "\n"
     ]
    }
   ],
   "source": [
    "print(df.round(1).to_latex().replace(\"\\\\$\", \"$\").replace(\"\\\\_\", \"_\").replace(\"\\\\{\", \"{\").replace(\"\\\\}\", \"}\").replace(\"mathbf\", \"\\mathbf\"))"
   ]
  },
  {
   "cell_type": "code",
   "execution_count": 79,
   "metadata": {},
   "outputs": [
    {
     "name": "stdout",
     "output_type": "stream",
     "text": [
      "bilstm 0.5017699115044247 0.4670510708401977 0.4837883959044369\n",
      "gain_bert_base 0.6001742160278746 0.5675453047775947 0.5834038950042336\n",
      "ssan 0.6305084745762712 0.6128500823723229 0.6215538847117794\n",
      "atlop_roberta 0.6626617375231053 0.5906095551894563 0.6245644599303136\n",
      "docunet 0.6694290976058932 0.5988467874794069 0.6321739130434783\n"
     ]
    }
   ],
   "source": [
    "for dataset_name, single_dataset in predict_dataset.items():\n",
    "    pred = set([(res['title'], res['h_idx'], res['t_idx'], res['r_idx']) for res in single_dataset])\n",
    "    hit_num = len(revise_htrs & pred)\n",
    "    pred_num = len(pred)\n",
    "    gold_num = len(revise_htrs)\n",
    "    p = hit_num / pred_num\n",
    "    r = hit_num / gold_num\n",
    "    f1 = 2 * p * r / (p + r)\n",
    "    print (dataset_name, p, r, f1)"
   ]
  },
  {
   "cell_type": "markdown",
   "metadata": {},
   "source": [
    "### Relation Bias"
   ]
  },
  {
   "cell_type": "markdown",
   "metadata": {},
   "source": [
    "将scratch 数据集中的关系实例按照是否属于top 100 property分类"
   ]
  },
  {
   "cell_type": "code",
   "execution_count": 54,
   "metadata": {},
   "outputs": [],
   "source": [
    "with open('./data/wikidata/Popular Relations.txt' ,'r') as fh:\n",
    "    lines = fh.readlines()\n",
    "popular_relations = [line.strip().split('\\t')[0].split(' ')[-1][1:-1] for line in lines]\n",
    "popular_relations = set(popular_relations) & set(list(rel2id))\n",
    "unpopular_relations = [rel for rel in rel2id if rel not in popular_relations and rel != 'Na']"
   ]
  },
  {
   "cell_type": "code",
   "execution_count": 55,
   "metadata": {},
   "outputs": [],
   "source": [
    "ins_with_rel = defaultdict(list)\n",
    "for data in scratch_dataset:\n",
    "    for label in data['labels']:\n",
    "        ins_with_rel[label['r']].append((data['title'], label['h'], label['t'], rel2id[label['r']]))"
   ]
  },
  {
   "cell_type": "code",
   "execution_count": 56,
   "metadata": {},
   "outputs": [],
   "source": [
    "pop_rel_instances = []\n",
    "unpop_rel_instances = []\n",
    "for rel in popular_relations:\n",
    "    pop_rel_instances += ins_with_rel[rel]\n",
    "for rel in unpopular_relations:\n",
    "    unpop_rel_instances += ins_with_rel[rel]\n",
    "\n",
    "pop_rel_instances = set(pop_rel_instances)\n",
    "unpop_rel_instances = set(unpop_rel_instances)"
   ]
  },
  {
   "cell_type": "code",
   "execution_count": 57,
   "metadata": {},
   "outputs": [],
   "source": [
    "pop_rel_scores = defaultdict(list)\n",
    "unpop_rel_scores = defaultdict(list)\n",
    "\n",
    "for dataset_name, single_dataset in binary_dataset.items():\n",
    "    for res in single_dataset:\n",
    "        if (res['title'], res['h_idx'], res['t_idx'], res['r_idx']) in pop_rel_instances:\n",
    "            pop_rel_scores[dataset_name].append(res['score'])\n",
    "        elif (res['title'], res['h_idx'], res['t_idx'], res['r_idx']) in unpop_rel_instances:\n",
    "            unpop_rel_scores[dataset_name].append(res['score'])"
   ]
  },
  {
   "cell_type": "code",
   "execution_count": 58,
   "metadata": {},
   "outputs": [],
   "source": [
    "pop_rel_predict = defaultdict(list)\n",
    "unpop_rel_predict = defaultdict(list)\n",
    "\n",
    "for dataset_name, single_dataset in predict_dataset.items():\n",
    "    for res in single_dataset:\n",
    "        if id2rel[res['r_idx']] in popular_relations:\n",
    "            pop_rel_predict[dataset_name].append(res['score'])\n",
    "        else:\n",
    "            unpop_rel_predict[dataset_name].append(res['score'])"
   ]
  },
  {
   "cell_type": "code",
   "execution_count": 67,
   "metadata": {},
   "outputs": [
    {
     "data": {
      "image/png": "[encoded data removed]",
      "text/plain": [
       "<Figure size 410.75x216 with 1 Axes>"
      ]
     },
     "metadata": {
      "needs_background": "light"
     },
     "output_type": "display_data"
    }
   ],
   "source": [
    "model_names = ['bilstm', 'gain_bert_base', 'atlop_roberta', 'ssan', 'docunet']\n",
    "model_names = ['atlop_roberta', 'docunet', 'ssan', 'gain_bert_base', 'bilstm']\n",
    "name_mp = {\n",
    "    'bilstm': 'BiLSTM',\n",
    "    'gain_bert_base': 'GAIN',\n",
    "    'atlop_roberta': 'ATLOP',\n",
    "    'ssan': 'SSAN',\n",
    "    'docunet': 'DocuNet'\n",
    "}\n",
    "y = []\n",
    "x = []\n",
    "hue = []\n",
    "for name in model_names:\n",
    "    score =  pop_rel_scores[name] + unpop_rel_scores[name]\n",
    "    model_name = [name_mp[name]] * len(score)\n",
    "    clss = ['popular'] * len(pop_rel_scores[name]) + ['unpopular'] * len(unpop_rel_scores[name])\n",
    "\n",
    "    y += score\n",
    "    x += model_name\n",
    "    hue += clss\n",
    "\n",
    "df = pd.DataFrame({\"Model\":x, \"Recall\": y, \"Relation\": hue})\n",
    "# plt.figure(figsize=(4, 4))\n",
    "sns_fig = sns.catplot(y=\"Model\", x=\"Recall\", hue=\"Relation\", data = df, kind='bar', saturation=1.0, height=3, aspect=1.5, ci=None)\n",
    "# plt.plot()\n",
    "sns_fig.set_xlabels(fontsize=14)\n",
    "sns_fig.set_ylabels(fontsize=14)\n",
    "\n",
    "# sns_fig.set_xticks((0, 0.1, 0.2, 0.3, 0.4))\n",
    "\n",
    "sns_fig.set_xticklabels(fontsize=13)\n",
    "sns_fig.set_yticklabels(fontsize=13)\n",
    "plt.setp(sns_fig.legend.get_title(), fontsize=13)\n",
    "plt.setp(sns_fig.legend.get_texts(), fontsize=13)\n",
    "\n",
    "sns_fig.ax.xaxis.set_major_locator(ticker.MultipleLocator(0.1))\n",
    "sns_fig.ax.xaxis.set_major_formatter(ticker.ScalarFormatter())\n",
    "\n",
    "sns_fig.savefig('./figs/model_relation_bias.pdf')\n"
   ]
  },
  {
   "cell_type": "code",
   "execution_count": null,
   "metadata": {},
   "outputs": [],
   "source": []
  },
  {
   "cell_type": "markdown",
   "metadata": {},
   "source": [
    "### Entity Bias"
   ]
  },
  {
   "cell_type": "code",
   "execution_count": 60,
   "metadata": {},
   "outputs": [],
   "source": [
    "with open('./data/wikidata/final_id2popular.json', 'r') as fh:\n",
    "    id2popular = json.load(fh)\n",
    "with open('./data/wikidata/final_wiki_ids.json', 'r') as fh:\n",
    "    wiki_ids = json.load(fh)"
   ]
  },
  {
   "cell_type": "code",
   "execution_count": 61,
   "metadata": {},
   "outputs": [],
   "source": [
    "with open('./data/docred/dev.json', 'r') as fh:\n",
    "    dev_dataset = json.load(fh)\n",
    "doc_titles = [data['title'] for data in dev_dataset]\n",
    "title2id = {}\n",
    "for fid, title in enumerate(doc_titles):\n",
    "    title2id[title] = fid"
   ]
  },
  {
   "cell_type": "code",
   "execution_count": 62,
   "metadata": {},
   "outputs": [],
   "source": [
    "for dataset_name, single_dataset in binary_dataset.items():\n",
    "    for res in single_dataset:\n",
    "        doc_wiki_ids = wiki_ids[title2id[res['title']]]\n",
    "\n",
    "        h_wiki_ids = doc_wiki_ids[int(res['h_idx'])]\n",
    "        t_wiki_ids = doc_wiki_ids[int(res['t_idx'])]\n",
    "\n",
    "        h_popularity = [id2popular[qid] for qid in h_wiki_ids if qid in id2popular]\n",
    "        t_popularity = [id2popular[qid] for qid in t_wiki_ids if qid in id2popular]\n",
    "\n",
    "        h_popularity = -1 if len(h_popularity) == 0 else max(h_popularity)\n",
    "        t_popularity = -1 if len(t_popularity) == 0 else max(t_popularity)\n",
    "\n",
    "        res['dominant_ent_pop'] = max(h_popularity, t_popularity)\n",
    "        res['recessive_ent_pop'] = min(h_popularity, t_popularity)"
   ]
  },
  {
   "cell_type": "code",
   "execution_count": 66,
   "metadata": {},
   "outputs": [
    {
     "name": "stderr",
     "output_type": "stream",
     "text": [
      "/home/huangqz/anaconda3/lib/python3.7/site-packages/ipykernel_launcher.py:38: UserWarning: FixedFormatter should only be used together with FixedLocator\n"
     ]
    },
    {
     "name": "stdout",
     "output_type": "stream",
     "text": [
      "bilstm [37.23583460949464, 85.91424196018377, 171.7748851454824, 397.32618683001533, 652.509954058193] [0.15926493108728942, 0.225114854517611, 0.21439509954058192, 0.2113323124042879, 0.327718223583461]\n"
     ]
    },
    {
     "data": {
      "image/png": "[encoded data removed]",
      "text/plain": [
       "<Figure size 432x288 with 1 Axes>"
      ]
     },
     "metadata": {
      "needs_background": "light"
     },
     "output_type": "display_data"
    }
   ],
   "source": [
    "bin_number = 5\n",
    "model_names = ['ssan', 'atlop_roberta', 'docunet', 'gain_bert_base', 'bilstm'] # 'ssan', \n",
    "name_mp = {\n",
    "    'bilstm': 'BiLSTM',\n",
    "    'gain_glove': 'GAIN',\n",
    "    'gain_bert_base': 'GAIN',\n",
    "    'gain_bert_large': 'GAIN',\n",
    "    'atlop_roberta': 'ATLOP',\n",
    "    'ssan': 'SSAN',\n",
    "    'docunet': 'DocuNet'\n",
    "}\n",
    "\n",
    "fig, ax1 = plt.subplots()\n",
    "# ax2 = ax1.twinx()\n",
    "\n",
    "# for dataset_name, single_dataset in positive_dataset.items():\n",
    "for dataset_name in model_names:\n",
    "    single_dataset = binary_dataset[dataset_name]\n",
    "    linked_dataset = [res for res in single_dataset if res['dominant_ent_pop'] != -1]\n",
    "    linked_dataset.sort(key=lambda x: x['recessive_ent_pop'])\n",
    "    linked_dataset.sort(key=lambda x: x['dominant_ent_pop'])\n",
    "\n",
    "    ent_pop = [res['dominant_ent_pop'] for res in linked_dataset]\n",
    "    scores = [res['score'] for res in linked_dataset]\n",
    "    interval = len(scores) // bin_number\n",
    "    scores = [np.mean(scores[bin_num*interval: (bin_num + 1)*interval]) for bin_num in range(bin_number)]\n",
    "    ent_pop = [np.mean(ent_pop[bin_num*interval: (bin_num + 1)*interval]) for bin_num in range(bin_number)]\n",
    "\n",
    "    x = [20, 40, 60, 80, 100]\n",
    "    ax1.plot(x, scores, label=name_mp[dataset_name])\n",
    "\n",
    "ax1.set_xticks(x)\n",
    "# ax2.scatter(x, ent_pop, c='black', )\n",
    "ax1.set_xlabel('Popularity$_{max}$ (%)', fontsize=14)\n",
    "ax1.set_ylabel('Recall', fontsize=14)\n",
    "ax1.set_xticklabels([20, 40, 60, 80, 100], fontsize=14)\n",
    "\n",
    "ax1.set_yticklabels([0, 0.15, \"0.20\", 0.25, \"0.30\", 0.35], fontsize=14)\n",
    "# ax2.set_ylabel(\"Average Popularity\")\n",
    "ax1.legend(loc='center right', bbox_to_anchor=(1.0, 0.2), ncol=1, fontsize=10)\n",
    "\n",
    "# plt.subplots_adjust(bottom=0.15)\n",
    "# plt.subplots_adjust(left=0.15)\n",
    "\n",
    "print(dataset_name, ent_pop, scores)\n",
    "plt.savefig('./figs/model_entity_bias_max.pdf', bbox_inches='tight')\n",
    "\n",
    " "
   ]
  },
  {
   "cell_type": "code",
   "execution_count": 65,
   "metadata": {},
   "outputs": [
    {
     "data": {
      "image/png": "[encoded data removed]",
      "text/plain": [
       "<Figure size 432x288 with 1 Axes>"
      ]
     },
     "metadata": {
      "needs_background": "light"
     },
     "output_type": "display_data"
    }
   ],
   "source": [
    "bin_number = 5\n",
    "model_names = ['ssan', 'atlop_roberta', 'docunet', 'gain_bert_base', 'bilstm']\n",
    "name_mp = {\n",
    "    'bilstm': 'BiLSTM',\n",
    "    'gain_glove': 'GAIN',\n",
    "    'gain_bert_base': 'GAIN',\n",
    "    'gain_bert_large': 'GAIN',\n",
    "    'atlop_roberta': 'ATLOP',\n",
    "    'ssan': 'SSAN',\n",
    "    'docunet': 'DocuNet'\n",
    "}\n",
    "\n",
    "# for dataset_name, single_dataset in positive_dataset.items():\n",
    "for dataset_name in model_names:\n",
    "    # single_dataset = positive_dataset[dataset_name]\n",
    "    single_dataset = binary_dataset[dataset_name]\n",
    "    linked_dataset = [res for res in single_dataset if res['recessive_ent_pop'] != -1]\n",
    "    linked_dataset.sort(key=lambda x: x['dominant_ent_pop'])\n",
    "    linked_dataset.sort(key=lambda x: x['recessive_ent_pop'])\n",
    "\n",
    "    ent_pop = [res['recessive_ent_pop'] for res in linked_dataset]\n",
    "    scores = [res['score'] for res in linked_dataset]\n",
    "    interval = len(scores) // bin_number\n",
    "    scores = [np.mean(scores[bin_num*interval: (bin_num + 1)*interval]) for bin_num in range(bin_number)]\n",
    "    ent_pop = [np.mean(ent_pop[bin_num*interval: (bin_num + 1)*interval]) for bin_num in range(bin_number)]\n",
    "\n",
    "    x = [20, 40, 60, 80, 100]\n",
    "    plt.plot(x, scores, label=name_mp[dataset_name])\n",
    "plt.xticks(fontsize=14)\n",
    "plt.yticks(fontsize=14)\n",
    "plt.xlabel('Popularity$_{min}$ (%)', fontsize=14)\n",
    "plt.ylabel('Recall', fontsize=14)\n",
    "plt.legend(loc='center right', bbox_to_anchor=(1., 0.2), ncol=1, fontsize=11)\n",
    "# plt.subplots_adjust(bottom=0.15)\n",
    "# plt.subplots_adjust(left=0.15)\n",
    "plt.xticks(x)\n",
    "plt.savefig('./figs/model_entity_bias_min.pdf', bbox_inches='tight')\n",
    "    # print(dataset_name, ent_pop, scores)\n",
    " "
   ]
  },
  {
   "cell_type": "code",
   "execution_count": null,
   "metadata": {},
   "outputs": [],
   "source": []
  }
 ],
 "metadata": {
  "interpreter": {
   "hash": "1b067e2bae65440c58a63d0e5883b00886d5bd6abd73a93319623dcccd768640"
  },
  "kernelspec": {
   "display_name": "Python 3.7.6 ('base')",
   "language": "python",
   "name": "python3"
  },
  "language_info": {
   "codemirror_mode": {
    "name": "ipython",
    "version": 3
   },
   "file_extension": ".py",
   "mimetype": "text/x-python",
   "name": "python",
   "nbconvert_exporter": "python",
   "pygments_lexer": "ipython3",
   "version": "3.7.6"
  },
  "orig_nbformat": 4
 },
 "nbformat": 4,
 "nbformat_minor": 2
}
