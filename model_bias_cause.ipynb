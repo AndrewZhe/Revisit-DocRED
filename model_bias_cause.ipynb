{
 "cells": [
  {
   "cell_type": "code",
   "execution_count": 1,
   "metadata": {},
   "outputs": [],
   "source": [
    "import ujson as json\n",
    "from collections import defaultdict\n",
    "import copy\n",
    "import pandas as pd\n",
    "import math\n",
    "import numpy as np\n",
    "import matplotlib.pyplot as plt\n",
    "import matplotlib.ticker as ticker\n",
    "import seaborn as sns"
   ]
  },
  {
   "cell_type": "code",
   "execution_count": 2,
   "metadata": {},
   "outputs": [],
   "source": [
    "file_list = [249, 866, 434, 672, 184, 938, 212, 140, 546, 347, 633, 556, 205, 340, 533, 513, 130, 5, 777, 650, 20, 414, 543, 419, 813, 561, 52, 310, 698, 314, 61, 961, 198, 714, 974, 746, 753, 881, 377, 564, 270, 835, 371, 471, 692, 560, 905, 411, 38, 721, 297, 559, 803, 649, 955, 409, 380, 976, 815, 500, 480, 660, 438, 454, 718, 306, 996, 154, 620, 772, 498, 155, 787, 332, 770, 767, 196, 981, 115, 722, 609, 289, 231, 959, 124, 17, 222, 653, 214, 181, 940, 426, 685, 244, 807, 496]"
   ]
  },
  {
   "cell_type": "code",
   "execution_count": 3,
   "metadata": {},
   "outputs": [],
   "source": [
    "with open('./data/docred/rel2id.json', 'r') as fh:\n",
    "    rel2id = json.load(fh)\n",
    "\n",
    "id2rel = {}\n",
    "for rel, idx in rel2id.items():\n",
    "    id2rel[idx] = rel\n",
    "\n",
    "with open('./data/docred/valid_scratch.json', 'r') as fh:\n",
    "    scratch_dataset = json.load(fh)"
   ]
  },
  {
   "cell_type": "code",
   "execution_count": 4,
   "metadata": {},
   "outputs": [],
   "source": [
    "with open('./data/docred/dev.json', 'r') as fh:\n",
    "    dev_dataset = json.load(fh)\n",
    "doc_titles = [data['title'] for data in dev_dataset]\n",
    "title2id = {}\n",
    "for fid, title in enumerate(doc_titles):\n",
    "    title2id[title] = fid"
   ]
  },
  {
   "cell_type": "code",
   "execution_count": 5,
   "metadata": {},
   "outputs": [],
   "source": [
    "with open('./data/wikidata/final_id2popular.json', 'r') as fh:\n",
    "    id2popular = json.load(fh)\n",
    "with open('./data/wikidata/final_wiki_ids.json', 'r') as fh:\n",
    "    wiki_ids = json.load(fh)"
   ]
  },
  {
   "cell_type": "code",
   "execution_count": 7,
   "metadata": {},
   "outputs": [],
   "source": [
    "with open('./data/model_results/96_dev_gain_bert_base_all_results.json', 'r') as fh:\n",
    "    negative_all_results = json.load(fh)\n",
    "\n",
    "with open('./data/model_results/96_dev_human_negative_gain_bert_base_all_results.json', 'r') as fh:\n",
    "    negative_human_results = json.load(fh)"
   ]
  },
  {
   "cell_type": "code",
   "execution_count": 8,
   "metadata": {},
   "outputs": [],
   "source": [
    "dataset = {\n",
    "    'n_all': negative_all_results, \n",
    "    'n_human': negative_human_results,\n",
    "}"
   ]
  },
  {
   "cell_type": "code",
   "execution_count": 9,
   "metadata": {},
   "outputs": [],
   "source": [
    "threshold = {\n",
    "    'n_human': 0.3312,\n",
    "    'n_all': 0.4392,\n",
    "}"
   ]
  },
  {
   "cell_type": "code",
   "execution_count": 10,
   "metadata": {},
   "outputs": [],
   "source": [
    "# FOR GAIN\n",
    "ori_htrs = set([(data['title'], label['h'], label['t'], rel2id[label['r']])  for data in scratch_dataset for label in data['labels']])\n",
    "positive_dataset = {}\n",
    "for dataset_name, single_dataset in dataset.items():\n",
    "    positive_dataset[dataset_name] = [res for res in single_dataset if (res['title'], res['h_idx'], res['t_idx'], res['r_idx']) in ori_htrs]\n",
    "\n",
    "binary_dataset = {}\n",
    "for dataset_name, single_dataset in positive_dataset.items():\n",
    "    if dataset_name in threshold:\n",
    "        binary_dataset[dataset_name] = [{'title': res['title'], 'h_idx': res['h_idx'], 't_idx': res['t_idx'], 'r_idx': res['r_idx'], 'ori_score': res['score'], 'score': int(res['score'] > threshold[dataset_name])} for res in single_dataset]\n",
    "\n",
    "predict_dataset = {}\n",
    "for dataset_name, single_dataset in dataset.items():\n",
    "    predict_dataset[dataset_name] = [{'title': res['title'], 'h_idx': res['h_idx'], 't_idx': res['t_idx'], 'r_idx': res['r_idx'], 'score': 1} for res in single_dataset if res['score'] > threshold[dataset_name]]"
   ]
  },
  {
   "cell_type": "markdown",
   "metadata": {},
   "source": [
    "### Relation"
   ]
  },
  {
   "cell_type": "code",
   "execution_count": 13,
   "metadata": {},
   "outputs": [],
   "source": [
    "with open('./data/wikidata/Popular Relations.txt' ,'r') as fh:\n",
    "    lines = fh.readlines()\n",
    "popular_relations  = [line.strip().split('\\t')[0].split(' ')[-1][1:-1] for line in lines]\n",
    "popular_relations = set(popular_relations) & set(list(rel2id))\n",
    "unpopular_relations = [rel for rel in rel2id if rel not in popular_relations and rel != 'Na']"
   ]
  },
  {
   "cell_type": "code",
   "execution_count": 11,
   "metadata": {},
   "outputs": [],
   "source": [
    "ins_with_rel = defaultdict(list)\n",
    "for data in scratch_dataset:\n",
    "    for label in data['labels']:\n",
    "        ins_with_rel[label['r']].append((data['title'], label['h'], label['t'], rel2id[label['r']]))"
   ]
  },
  {
   "cell_type": "code",
   "execution_count": 14,
   "metadata": {},
   "outputs": [],
   "source": [
    "pop_rel_instances = []\n",
    "unpop_rel_instances = []\n",
    "for rel in popular_relations:\n",
    "    pop_rel_instances += ins_with_rel[rel]\n",
    "for rel in unpopular_relations:\n",
    "    unpop_rel_instances += ins_with_rel[rel]\n",
    "\n",
    "pop_rel_instances = set(pop_rel_instances)\n",
    "unpop_rel_instances = set(unpop_rel_instances)"
   ]
  },
  {
   "cell_type": "code",
   "execution_count": 15,
   "metadata": {},
   "outputs": [],
   "source": [
    "pop_rel_scores = defaultdict(list)\n",
    "unpop_rel_scores = defaultdict(list)\n",
    "\n",
    "for dataset_name, single_dataset in binary_dataset.items():\n",
    "    for res in single_dataset:\n",
    "        if (res['title'], res['h_idx'], res['t_idx'], res['r_idx']) in pop_rel_instances:\n",
    "            pop_rel_scores[dataset_name].append(res['score'])\n",
    "        elif (res['title'], res['h_idx'], res['t_idx'], res['r_idx']) in unpop_rel_instances:\n",
    "            unpop_rel_scores[dataset_name].append(res['score'])"
   ]
  },
  {
   "cell_type": "code",
   "execution_count": 30,
   "metadata": {},
   "outputs": [
    {
     "name": "stdout",
     "output_type": "stream",
     "text": [
      "[0.36177884615384615, 0.45479265805574437, 0.5079365079365079]\n"
     ]
    },
    {
     "data": {
      "image/png": "[encoded data removed]",
      "text/plain": [
       "<Figure size 396x216 with 1 Axes>"
      ]
     },
     "metadata": {
      "needs_background": "light"
     },
     "output_type": "display_data"
    }
   ],
   "source": [
    "plt.figure(figsize=(5.5, 3))\n",
    "\n",
    "first = [\n",
    "    np.sum(unpop_rel_scores['n_all']) / (np.sum(unpop_rel_scores['n_all']) + np.sum(pop_rel_scores['n_all'])),\n",
    "    np.sum(unpop_rel_scores['n_human']) / (np.sum(unpop_rel_scores['n_human']) + np.sum(pop_rel_scores['n_human'])),\n",
    "    len(unpop_rel_instances) / (len(unpop_rel_instances) + len(pop_rel_instances))\n",
    "]\n",
    "\n",
    "print (first)\n",
    "\n",
    "second = [1 - t for t in first]\n",
    "\n",
    "\n",
    "first = [t * 100 for t in first]\n",
    "second = [t*100 for t in second]\n",
    "\n",
    "color1 = sns.color_palette()[1]\n",
    "color2 = sns.color_palette()[0]\n",
    "\n",
    "plt.barh([1.3,2, 2.7], first, height=0.4, label='Unpopular Relation', color=color1)\n",
    "plt.barh([1.3,2, 2.7], second, left=first, height=0.4, color=color2, label='Popular Relation')\n",
    "\n",
    "plt.yticks([1.3,2, 2.7], ['N$_{All}$','N$_{Hum}$', \"D$_{Scratch}$\"], fontsize=15)\n",
    "\n",
    "plt.xlabel('Fraction(%)', fontsize=15)\n",
    "t = plt.legend(loc='upper center', bbox_to_anchor=(0.4, 1.25), ncol=3, fontsize=13)\n",
    "plt.xticks(fontsize=15)\n",
    "plt.savefig('./figs/model_relation_bias_cause.pdf', bbox_inches='tight')\n"
   ]
  },
  {
   "cell_type": "markdown",
   "metadata": {},
   "source": [
    "### Entity"
   ]
  },
  {
   "cell_type": "code",
   "execution_count": 24,
   "metadata": {},
   "outputs": [],
   "source": [
    "with open('./data/wikidata/final_id2popular.json', 'r') as fh:\n",
    "    id2popular = json.load(fh)\n",
    "with open('./data/wikidata/final_wiki_ids.json', 'r') as fh:\n",
    "    wiki_ids = json.load(fh)\n"
   ]
  },
  {
   "cell_type": "code",
   "execution_count": 25,
   "metadata": {},
   "outputs": [],
   "source": [
    "for dataset_name, single_dataset in binary_dataset.items():\n",
    "    for res in single_dataset:\n",
    "        doc_wiki_ids = wiki_ids[title2id[res['title']]]\n",
    "\n",
    "        h_wiki_ids = doc_wiki_ids[int(res['h_idx'])]\n",
    "        t_wiki_ids = doc_wiki_ids[int(res['t_idx'])]\n",
    "\n",
    "        h_popularity = [id2popular[qid] for qid in h_wiki_ids if qid in id2popular]\n",
    "        t_popularity = [id2popular[qid] for qid in t_wiki_ids if qid in id2popular]\n",
    "\n",
    "        h_popularity = -1 if len(h_popularity) == 0 else max(h_popularity)\n",
    "        t_popularity = -1 if len(t_popularity) == 0 else max(t_popularity)\n",
    "\n",
    "        res['max'] = max(h_popularity, t_popularity)\n",
    "        res['min'] = min(h_popularity, t_popularity)"
   ]
  },
  {
   "cell_type": "code",
   "execution_count": 29,
   "metadata": {},
   "outputs": [
    {
     "name": "stdout",
     "output_type": "stream",
     "text": [
      "n_all [36.13184931506849, 87.38698630136986, 175.83390410958904, 412.7945205479452, 655.2756849315068] [0.1815068493150685, 0.24315068493150685, 0.2979452054794521, 0.3099315068493151, 0.3784246575342466]\n",
      "n_human [36.13184931506849, 87.38698630136986, 175.83390410958904, 412.7945205479452, 655.2756849315068] [0.4452054794520548, 0.4726027397260274, 0.5291095890410958, 0.4965753424657534, 0.5393835616438356]\n"
     ]
    },
    {
     "data": {
      "image/png": "[encoded data removed]",
      "text/plain": [
       "<Figure size 720x288 with 2 Axes>"
      ]
     },
     "metadata": {
      "needs_background": "light"
     },
     "output_type": "display_data"
    }
   ],
   "source": [
    "bin_number = 5\n",
    "model_names = ['n_all', 'n_human'] # 'ssan',\n",
    "name_mp = {\n",
    "    'n_all': ['N$_{All}$', 'N$_{All}$'],\n",
    "    'n_human': ['N$_{Hum}$', 'N$_{Hum}$'],\n",
    "}\n",
    "\n",
    "fmts = {\n",
    "    'n_all': ['r', 'b'],\n",
    "    'n_human': ['r', 'b']\n",
    "}\n",
    "\n",
    "colors = {\n",
    "    'n_all': ['orangered', 'orangered'],\n",
    "    'n_human': ['royalblue', 'royalblue']\n",
    "\n",
    "}\n",
    "\n",
    "\n",
    "['r--', 'b--', 'r', 'b']\n",
    "fig=plt.figure(figsize=(10,4))\n",
    "ax=fig.add_subplot(121)\n",
    "\n",
    "# for dataset_name, single_dataset in positive_dataset.items():\n",
    "for dataset_name in model_names:\n",
    "    # single_dataset = positive_dataset[dataset_name]\n",
    "    single_dataset = binary_dataset[dataset_name]\n",
    "    linked_dataset = [res for res in single_dataset if res['min'] != -1]\n",
    "    linked_dataset.sort(key=lambda x: x['max'])\n",
    "    linked_dataset.sort(key=lambda x: x['min'])\n",
    "\n",
    "    ent_pop = [res['min'] for res in linked_dataset]\n",
    "    scores = [res['score'] for res in linked_dataset]\n",
    "    interval = len(scores) // bin_number\n",
    "    scores = [np.mean(scores[bin_num*interval: (bin_num + 1)*interval]) for bin_num in range(bin_number)]\n",
    "    ent_pop = [np.mean(ent_pop[bin_num*interval: (bin_num + 1)*interval]) for bin_num in range(bin_number)]\n",
    "\n",
    "    # x = [20, 40, 60, 80, 100]\n",
    "    x = [\"[20,40]\", \"[40,60]\", \"[60,80]\", \"[80,100]\"]\n",
    "\n",
    "    ax.plot(x, [t - scores[0] for t in scores[1:]], fmts[dataset_name][0], label=name_mp[dataset_name][0], color=colors[dataset_name][0])\n",
    "\n",
    "\n",
    "    ax.set_xticks(x)\n",
    "plt.xlabel('Popularity$_{min}$ (%)', fontsize=14)\n",
    "    # print(dataset_name, ent_pop, scores)\n",
    "plt.xticks(fontsize=14)\n",
    "plt.yticks(fontsize=14)\n",
    "plt.ylabel('Delta Recall', fontsize=14)\n",
    "# name_mp = {\n",
    "#     'ori': 'ALL-Dominant',\n",
    "#     'wo_dsn': 'HUM-Dominant',\n",
    "# }\n",
    "# for dataset_name in model_names:\n",
    "ax=fig.add_subplot(122)\n",
    "\n",
    "# for dataset_name, single_dataset in positive_dataset.items():\n",
    "for dataset_name in model_names:\n",
    "    single_dataset = binary_dataset[dataset_name]\n",
    "    linked_dataset = [res for res in single_dataset if res['max'] != -1]\n",
    "    linked_dataset.sort(key=lambda x: x['min'])\n",
    "    linked_dataset.sort(key=lambda x: x['max'])\n",
    "\n",
    "    ent_pop = [res['max'] for res in linked_dataset]\n",
    "    scores = [res['score'] for res in linked_dataset]\n",
    "    interval = len(scores) // bin_number\n",
    "    scores = [np.mean(scores[bin_num*interval: (bin_num + 1)*interval]) for bin_num in range(bin_number)]\n",
    "    ent_pop = [np.mean(ent_pop[bin_num*interval: (bin_num + 1)*interval]) for bin_num in range(bin_number)]\n",
    "\n",
    "    # x = [20, 40, 60, 80, 100]\n",
    "    x = [\"[20,40]\", \"[40,60]\", \"[60,80]\", \"[80,100]\"]\n",
    "    plt.plot(x, [t - scores[0] for t in scores[1:]], fmts[dataset_name][1], label=name_mp[dataset_name][1],  color=colors[dataset_name][1])\n",
    "\n",
    "    print(dataset_name, ent_pop, scores)\n",
    "    ax.set_yticks([])\n",
    "plt.xlabel('Popularity$_{max}$ (%)', fontsize=14)\n",
    "\n",
    "plt.xticks(fontsize=14)\n",
    "# plt.yticks(fontsize=14)\n",
    "# plt.legend(loc='upper left', bbox_to_anchor=(1., 0.2), ncol=1, fontsize=11)\n",
    "# plt.legend(loc='upper left', fontsize=11)\n",
    "plt.legend(loc='lower right', fontsize=16)\n",
    "\n",
    "plt.savefig('./figs/model_entity_bias_cause.pdf', bbox_inches='tight')\n",
    "# bbox_to_anchor=(1.65, 0.2), ncol=1, fontsize=12)\n"
   ]
  },
  {
   "cell_type": "code",
   "execution_count": null,
   "metadata": {},
   "outputs": [],
   "source": []
  }
 ],
 "metadata": {
  "interpreter": {
   "hash": "1b067e2bae65440c58a63d0e5883b00886d5bd6abd73a93319623dcccd768640"
  },
  "kernelspec": {
   "display_name": "Python 3.7.6 ('base')",
   "language": "python",
   "name": "python3"
  },
  "language_info": {
   "codemirror_mode": {
    "name": "ipython",
    "version": 3
   },
   "file_extension": ".py",
   "mimetype": "text/x-python",
   "name": "python",
   "nbconvert_exporter": "python",
   "pygments_lexer": "ipython3",
   "version": "3.7.6"
  },
  "orig_nbformat": 4
 },
 "nbformat": 4,
 "nbformat_minor": 2
}
